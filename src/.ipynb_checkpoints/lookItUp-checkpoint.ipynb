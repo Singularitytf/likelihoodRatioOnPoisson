{
 "cells": [
  {
   "cell_type": "code",
   "execution_count": 1,
   "metadata": {},
   "outputs": [],
   "source": [
    "import numpy as np\n",
    "from numba import njit\n",
    "import h5py as hp"
   ]
  },
  {
   "cell_type": "code",
   "execution_count": 2,
   "metadata": {},
   "outputs": [],
   "source": [
    "class likelihoodRatioInterval():\n",
    "    "
   ]
  },
  {
   "cell_type": "code",
   "execution_count": 3,
   "metadata": {},
   "outputs": [],
   "source": [
    "def getStepIndex(list_):\n",
    "    # input an dict mapping n0 to mu_2(b). output its step's index\n",
    "    list_diff = list_[1:] - list_[:-1]\n",
    "    step_index_list = np.argwhere(list_diff>0) + 1\n",
    "    return step_index_list"
   ]
  },
  {
   "cell_type": "code",
   "execution_count": 23,
   "metadata": {},
   "outputs": [],
   "source": [
    "def findIndex(bkg, bkg_scan):\n",
    "    idx = np.argmin(np.abs(bkg_scan - bkg))\n",
    "    return idx"
   ]
  },
  {
   "cell_type": "code",
   "execution_count": 33,
   "metadata": {},
   "outputs": [],
   "source": [
    "def findModifiedUpperLimit(n0, bkg, mu2_dic, step_index):\n",
    "    # Step index is the index when mu2 is jumpping.\n",
    "    bkg_scan = mu2_dic[\"bkg_scan\"]\n",
    "    mu2_list = mu2_dic[str(n0)]\n",
    "    bkg_step_points = bkg_scan[step_index]\n",
    "    mu2_step_points = mu2_list[step_index]\n",
    "    index = findIndex(bkg, bkg_scan)\n",
    "    for i in range(index.shape[0]-1):\n",
    "        # find nearest bkg in the dictionary.\n",
    "        if (bkg > bkg_step_points[i] & bkg < bkg_step_points[i+1]): # bkg in the abnormal part.\n",
    "            # if mu is in the dip reigon, modified it!\n",
    "            if mu2_list[index] <= mu2_step_points[i+1]:\n",
    "                return mu2_step_points[i+1]\n",
    "            else:\n",
    "                return mu2_list[index]\n",
    "        elif bkg < bkg_step_points[1]: # bkg in the left region.\n",
    "            return mu2_list[index]\n",
    "        elif bkg > last(bkg_step_points):\n",
    "            println(\"Warning: Need to know the next step point!!! Hint: enlarge bkg_scan region\")"
   ]
  },
  {
   "cell_type": "code",
   "execution_count": 10,
   "metadata": {},
   "outputs": [],
   "source": [
    "def findUpperLimit(n0, bkg, mu2_dic):\n",
    "    bkg_scan = mu2_dic[\"bkg_scan\"]\n",
    "    mu2_list = mu2_dic[str(n0)]\n",
    "    index = findIndex(bkg, bkg_scan)\n",
    "    return mu2_list[index]"
   ]
  },
  {
   "cell_type": "code",
   "execution_count": 12,
   "metadata": {},
   "outputs": [],
   "source": [
    "def findLowerLimit(n0, bkg, mu1_dic):\n",
    "    bkg_scan = mu1_dic[\"bkg_scan\"]\n",
    "    mu1_list = mu1_dic[str(n0)]\n",
    "    index = findIndex(bkg, bkg_scan)\n",
    "    return mu1_list[index]"
   ]
  },
  {
   "cell_type": "code",
   "execution_count": 35,
   "metadata": {},
   "outputs": [],
   "source": [
    "def findInterval(n0, bkg):\n",
    "    step_index = getStepIndex(mu2_dic[\"{}\".format(n0)])\n",
    "    if step_index.shape[0] == 0: # find whether it have pathology or not.\n",
    "        mu2 = findUpperLimit(n0, bkg, mu2_dic)\n",
    "        mu1 = findLowerLimit(n0, bkg, mu1_dic)\n",
    "    else:\n",
    "        mu2 = findModifiedUpperLimit(n0, bkg, mu2_dic, step_index)\n",
    "        mu1 = findLowerLimit(n0, bkg, mu1_dic)\n",
    "    return [mu1, mu2]"
   ]
  },
  {
   "cell_type": "code",
   "execution_count": 26,
   "metadata": {},
   "outputs": [
    {
     "name": "stdout",
     "output_type": "stream",
     "text": [
      "<KeysViewHDF5 ['bkg', 'mu1', 'mu2']>\n"
     ]
    }
   ],
   "source": [
    "file = hp.File(\"likelihood_mu_bkg_data/mu_bkg_0_20.h5\", \"r\")\n",
    "print(file.keys())\n",
    "bkg_scan = np.copy(file[\"bkg\"])\n",
    "mu2_dic = file[\"mu2\"]\n",
    "mu1_dic = file[\"mu1\"]\n",
    "# idx = getStepIndex(mu2_list)\n",
    "# file.close()"
   ]
  },
  {
   "cell_type": "code",
   "execution_count": 24,
   "metadata": {},
   "outputs": [
    {
     "name": "stdout",
     "output_type": "stream",
     "text": [
      "53.5 µs ± 686 ns per loop (mean ± std. dev. of 7 runs, 10000 loops each)\n"
     ]
    }
   ],
   "source": [
    "%timeit getStepIndex(bkg_scan)"
   ]
  },
  {
   "cell_type": "code",
   "execution_count": 36,
   "metadata": {},
   "outputs": [
    {
     "ename": "KeyError",
     "evalue": "\"Unable to open object (object 'bkg_scan' doesn't exist)\"",
     "output_type": "error",
     "traceback": [
      "\u001b[0;31m---------------------------------------------------------------------------\u001b[0m",
      "\u001b[0;31mKeyError\u001b[0m                                  Traceback (most recent call last)",
      "\u001b[0;32m<ipython-input-36-339d467f9f7e>\u001b[0m in \u001b[0;36m<module>\u001b[0;34m\u001b[0m\n\u001b[0;32m----> 1\u001b[0;31m \u001b[0mfindInterval\u001b[0m\u001b[0;34m(\u001b[0m\u001b[0;36m2\u001b[0m\u001b[0;34m,\u001b[0m \u001b[0;36m3.0\u001b[0m\u001b[0;34m)\u001b[0m\u001b[0;34m\u001b[0m\u001b[0;34m\u001b[0m\u001b[0m\n\u001b[0m",
      "\u001b[0;32m<ipython-input-35-3de26b998b0b>\u001b[0m in \u001b[0;36mfindInterval\u001b[0;34m(n0, bkg)\u001b[0m\n\u001b[1;32m      5\u001b[0m         \u001b[0mmu1\u001b[0m \u001b[0;34m=\u001b[0m \u001b[0mfindLowerLimit\u001b[0m\u001b[0;34m(\u001b[0m\u001b[0mn0\u001b[0m\u001b[0;34m,\u001b[0m \u001b[0mbkg\u001b[0m\u001b[0;34m,\u001b[0m \u001b[0mmu1_dic\u001b[0m\u001b[0;34m)\u001b[0m\u001b[0;34m\u001b[0m\u001b[0;34m\u001b[0m\u001b[0m\n\u001b[1;32m      6\u001b[0m     \u001b[0;32melse\u001b[0m\u001b[0;34m:\u001b[0m\u001b[0;34m\u001b[0m\u001b[0;34m\u001b[0m\u001b[0m\n\u001b[0;32m----> 7\u001b[0;31m         \u001b[0mmu2\u001b[0m \u001b[0;34m=\u001b[0m \u001b[0mfindModifiedUpperLimit\u001b[0m\u001b[0;34m(\u001b[0m\u001b[0mn0\u001b[0m\u001b[0;34m,\u001b[0m \u001b[0mbkg\u001b[0m\u001b[0;34m,\u001b[0m \u001b[0mmu2_dic\u001b[0m\u001b[0;34m,\u001b[0m \u001b[0mstep_index\u001b[0m\u001b[0;34m)\u001b[0m\u001b[0;34m\u001b[0m\u001b[0;34m\u001b[0m\u001b[0m\n\u001b[0m\u001b[1;32m      8\u001b[0m         \u001b[0mmu1\u001b[0m \u001b[0;34m=\u001b[0m \u001b[0mfindLowerLimit\u001b[0m\u001b[0;34m(\u001b[0m\u001b[0mn0\u001b[0m\u001b[0;34m,\u001b[0m \u001b[0mbkg\u001b[0m\u001b[0;34m,\u001b[0m \u001b[0mmu1_dic\u001b[0m\u001b[0;34m)\u001b[0m\u001b[0;34m\u001b[0m\u001b[0;34m\u001b[0m\u001b[0m\n\u001b[1;32m      9\u001b[0m     \u001b[0;32mreturn\u001b[0m \u001b[0;34m[\u001b[0m\u001b[0mmu1\u001b[0m\u001b[0;34m,\u001b[0m \u001b[0mmu2\u001b[0m\u001b[0;34m]\u001b[0m\u001b[0;34m\u001b[0m\u001b[0;34m\u001b[0m\u001b[0m\n",
      "\u001b[0;32m<ipython-input-33-10d75b16fed5>\u001b[0m in \u001b[0;36mfindModifiedUpperLimit\u001b[0;34m(n0, bkg, mu2_dic, step_index)\u001b[0m\n\u001b[1;32m      1\u001b[0m \u001b[0;32mdef\u001b[0m \u001b[0mfindModifiedUpperLimit\u001b[0m\u001b[0;34m(\u001b[0m\u001b[0mn0\u001b[0m\u001b[0;34m,\u001b[0m \u001b[0mbkg\u001b[0m\u001b[0;34m,\u001b[0m \u001b[0mmu2_dic\u001b[0m\u001b[0;34m,\u001b[0m \u001b[0mstep_index\u001b[0m\u001b[0;34m)\u001b[0m\u001b[0;34m:\u001b[0m\u001b[0;34m\u001b[0m\u001b[0;34m\u001b[0m\u001b[0m\n\u001b[1;32m      2\u001b[0m     \u001b[0;31m# Step index is the index when mu2 is jumpping.\u001b[0m\u001b[0;34m\u001b[0m\u001b[0;34m\u001b[0m\u001b[0;34m\u001b[0m\u001b[0m\n\u001b[0;32m----> 3\u001b[0;31m     \u001b[0mbkg_scan\u001b[0m \u001b[0;34m=\u001b[0m \u001b[0mmu2_dic\u001b[0m\u001b[0;34m[\u001b[0m\u001b[0;34m\"bkg_scan\"\u001b[0m\u001b[0;34m]\u001b[0m\u001b[0;34m\u001b[0m\u001b[0;34m\u001b[0m\u001b[0m\n\u001b[0m\u001b[1;32m      4\u001b[0m     \u001b[0mmu2_list\u001b[0m \u001b[0;34m=\u001b[0m \u001b[0mmu2_dic\u001b[0m\u001b[0;34m[\u001b[0m\u001b[0mstr\u001b[0m\u001b[0;34m(\u001b[0m\u001b[0mn0\u001b[0m\u001b[0;34m)\u001b[0m\u001b[0;34m]\u001b[0m\u001b[0;34m\u001b[0m\u001b[0;34m\u001b[0m\u001b[0m\n\u001b[1;32m      5\u001b[0m     \u001b[0mbkg_step_points\u001b[0m \u001b[0;34m=\u001b[0m \u001b[0mbkg_scan\u001b[0m\u001b[0;34m[\u001b[0m\u001b[0mstep_index\u001b[0m\u001b[0;34m]\u001b[0m\u001b[0;34m\u001b[0m\u001b[0;34m\u001b[0m\u001b[0m\n",
      "\u001b[0;32mh5py/_objects.pyx\u001b[0m in \u001b[0;36mh5py._objects.with_phil.wrapper\u001b[0;34m()\u001b[0m\n",
      "\u001b[0;32mh5py/_objects.pyx\u001b[0m in \u001b[0;36mh5py._objects.with_phil.wrapper\u001b[0;34m()\u001b[0m\n",
      "\u001b[0;32m~/opt/anaconda3/lib/python3.7/site-packages/h5py/_hl/group.py\u001b[0m in \u001b[0;36m__getitem__\u001b[0;34m(self, name)\u001b[0m\n\u001b[1;32m    262\u001b[0m                 \u001b[0;32mraise\u001b[0m \u001b[0mValueError\u001b[0m\u001b[0;34m(\u001b[0m\u001b[0;34m\"Invalid HDF5 object reference\"\u001b[0m\u001b[0;34m)\u001b[0m\u001b[0;34m\u001b[0m\u001b[0;34m\u001b[0m\u001b[0m\n\u001b[1;32m    263\u001b[0m         \u001b[0;32melse\u001b[0m\u001b[0;34m:\u001b[0m\u001b[0;34m\u001b[0m\u001b[0;34m\u001b[0m\u001b[0m\n\u001b[0;32m--> 264\u001b[0;31m             \u001b[0moid\u001b[0m \u001b[0;34m=\u001b[0m \u001b[0mh5o\u001b[0m\u001b[0;34m.\u001b[0m\u001b[0mopen\u001b[0m\u001b[0;34m(\u001b[0m\u001b[0mself\u001b[0m\u001b[0;34m.\u001b[0m\u001b[0mid\u001b[0m\u001b[0;34m,\u001b[0m \u001b[0mself\u001b[0m\u001b[0;34m.\u001b[0m\u001b[0m_e\u001b[0m\u001b[0;34m(\u001b[0m\u001b[0mname\u001b[0m\u001b[0;34m)\u001b[0m\u001b[0;34m,\u001b[0m \u001b[0mlapl\u001b[0m\u001b[0;34m=\u001b[0m\u001b[0mself\u001b[0m\u001b[0;34m.\u001b[0m\u001b[0m_lapl\u001b[0m\u001b[0;34m)\u001b[0m\u001b[0;34m\u001b[0m\u001b[0;34m\u001b[0m\u001b[0m\n\u001b[0m\u001b[1;32m    265\u001b[0m \u001b[0;34m\u001b[0m\u001b[0m\n\u001b[1;32m    266\u001b[0m         \u001b[0motype\u001b[0m \u001b[0;34m=\u001b[0m \u001b[0mh5i\u001b[0m\u001b[0;34m.\u001b[0m\u001b[0mget_type\u001b[0m\u001b[0;34m(\u001b[0m\u001b[0moid\u001b[0m\u001b[0;34m)\u001b[0m\u001b[0;34m\u001b[0m\u001b[0;34m\u001b[0m\u001b[0m\n",
      "\u001b[0;32mh5py/_objects.pyx\u001b[0m in \u001b[0;36mh5py._objects.with_phil.wrapper\u001b[0;34m()\u001b[0m\n",
      "\u001b[0;32mh5py/_objects.pyx\u001b[0m in \u001b[0;36mh5py._objects.with_phil.wrapper\u001b[0;34m()\u001b[0m\n",
      "\u001b[0;32mh5py/h5o.pyx\u001b[0m in \u001b[0;36mh5py.h5o.open\u001b[0;34m()\u001b[0m\n",
      "\u001b[0;31mKeyError\u001b[0m: \"Unable to open object (object 'bkg_scan' doesn't exist)\""
     ]
    }
   ],
   "source": [
    "findInterval(2, 3.0)"
   ]
  },
  {
   "cell_type": "code",
   "execution_count": 9,
   "metadata": {},
   "outputs": [
    {
     "name": "stdout",
     "output_type": "stream",
     "text": [
      "<KeysViewHDF5 ['bkg', 'mu1', 'mu2']>\n"
     ]
    },
    {
     "data": {
      "image/png": "[encoded data removed]",
      "text/plain": [
       "<Figure size 432x288 with 1 Axes>"
      ]
     },
     "metadata": {
      "needs_background": "light"
     },
     "output_type": "display_data"
    }
   ],
   "source": [
    "if __name__ == \"__main__\":\n",
    "    file = hp.File(\"likelihood_mu_bkg_data/mu_bkg_0_20.h5\", \"r\")\n",
    "    print(file.keys())\n",
    "    bkg_scan = file[\"bkg\"]\n",
    "    mu2_list = file[\"mu2/0\"]\n",
    "    idx = getStepIndex(mu2_list)\n",
    "    import matplotlib.pyplot as plt\n",
    "    plt.plot(bkg_scan, mu2_list)\n",
    "    plt.scatter(bkg_scan[idx], mu2_list[idx])\n",
    "    plt.show()\n",
    "    file.close()"
   ]
  }
 ],
 "metadata": {
  "kernelspec": {
   "display_name": "Python 3",
   "language": "python",
   "name": "python3"
  },
  "language_info": {
   "codemirror_mode": {
    "name": "ipython",
    "version": 3
   },
   "file_extension": ".py",
   "mimetype": "text/x-python",
   "name": "python",
   "nbconvert_exporter": "python",
   "pygments_lexer": "ipython3",
   "version": "3.7.7"
  }
 },
 "nbformat": 4,
 "nbformat_minor": 4
}
